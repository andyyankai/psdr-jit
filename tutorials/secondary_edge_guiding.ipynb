{
 "cells": [
  {
   "cell_type": "code",
   "execution_count": 1,
   "metadata": {},
   "outputs": [],
   "source": [
    "import os\n",
    "import sys\n",
    "import torch\n",
    "\n",
    "import psdr_jit as psdr\n",
    "import drjit\n",
    "from drjit.cuda.ad import Int as IntD, Float as FloatD, Matrix4f as Matrix4fD, Array3f as Vector3fD, Array2f as Vector2fD\n",
    "from drjit.cuda import Float as FloatC, Matrix4f as Matrix4fC, Array3f as Vector3fC\n",
    "from drjit.cuda import PCG32 as PCG32C, UInt64 as UInt64C\n",
    "\n",
    "from pathlib import Path\n",
    "import numpy as np\n",
    "import matplotlib.pyplot as plt\n",
    "import numpy as np\n",
    "from PIL import Image\n",
    "from image_util import *\n"
   ]
  },
  {
   "cell_type": "code",
   "execution_count": 2,
   "metadata": {},
   "outputs": [],
   "source": [
    "sc = psdr.Scene()\n",
    "sc.opts.spp = 0\n",
    "sc.opts.sppe = 0\n",
    "sc.opts.sppse = 4 \n",
    "sc.opts.height = 512 \n",
    "sc.opts.width = 512\n",
    "\n",
    "# integrator = CollocatedIntegrator(sc.opts.spp, sc.opts.sppe, sc.opts.sppse, sc.opts.height, sc.opts.width, 1000000.0)\n",
    "integrator = psdr.PathTracer(1)\n"
   ]
  },
  {
   "cell_type": "code",
   "execution_count": 3,
   "metadata": {},
   "outputs": [],
   "source": [
    "sensor = psdr.PerspectiveCamera(60, 0.000001, 10000000.)\n",
    "to_world = Matrix4fD([[1.,0.,0.,278.],\n",
    "                     [0.,1.,0.,273.],\n",
    "                     [0.,0.,1.,-500.],\n",
    "                     [0.,0.,0.,1.],])\n",
    "sensor.to_world = to_world\n",
    "sc.add_Sensor(sensor)\n"
   ]
  },
  {
   "cell_type": "code",
   "execution_count": 4,
   "metadata": {},
   "outputs": [],
   "source": [
    "mybsdf1 = psdr.DiffuseBSDF([0.2, 0.9, 0.9])\n",
    "sc.add_BSDF(mybsdf1, \"sphere_large\")\n",
    "\n",
    "mybsdf2 = psdr.DiffuseBSDF(0.5)\n",
    "sc.add_BSDF(mybsdf2, \"back\")\n",
    "\n",
    "mybsdf3 = psdr.DiffuseBSDF(0.5)\n",
    "sc.add_BSDF(mybsdf3, \"light\")\n",
    "\n",
    "mybsdf4 = psdr.DiffuseBSDF([0.9, 0.6, 0.1])\n",
    "sc.add_BSDF(mybsdf4, \"sphere_small\")\n",
    "\n",
    "mybsdf5 = psdr.DiffuseBSDF([0.95, 0.95, 0.95])\n",
    "sc.add_BSDF(mybsdf5, \"white\")\n",
    "\n",
    "mybsdf6 = psdr.DiffuseBSDF([0.2, 0.9, 0.2])\n",
    "sc.add_BSDF(mybsdf6, \"green\")\n",
    "\n",
    "mybsdf7 = psdr.DiffuseBSDF([0.9, 0.2, 0.2])\n",
    "sc.add_BSDF(mybsdf7, \"red\")\n"
   ]
  },
  {
   "cell_type": "code",
   "execution_count": 5,
   "metadata": {},
   "outputs": [],
   "source": [
    "sc.add_Mesh(\"./data/cbox/cbox_luminaire.obj\", Matrix4fC([[1.,0.,0.,0.],[0.,1.,0.,-0.5],[0.,0.,1.,0.],[0.,0.,0.,1.]]), \"light\", psdr.AreaLight([20.0, 20.0, 8.0]))\n",
    "sc.add_Mesh(\"./data/cbox/cbox_smallball.obj\", Matrix4fC([[1.,0.,0.,0.],[0.,1.,0.,0.],[0.,0.,1.,0.],[0.,0.,0.,1.]]), \"sphere_small\", None)\n",
    "sc.add_Mesh(\"./data/cbox/cbox_largeball.obj\", Matrix4fC([[1.,0.,0.,0.],[0.,1.,0.,0.],[0.,0.,1.,0],[0.,0.,0.,1.]]), \"sphere_large\", None)\n",
    "sc.add_Mesh(\"./data/cbox/cbox_floor.obj\", Matrix4fC([[1.,0.,0.,0.],[0.,1.,0.,0.],[0.,0.,1.,0.],[0.,0.,0.,1.]]), \"white\", None)\n",
    "sc.add_Mesh(\"./data/cbox/cbox_ceiling.obj\", Matrix4fC([[1.,0.,0.,0.],[0.,1.,0.,0.],[0.,0.,1.,0.],[0.,0.,0.,1.]]), \"white\", None)\n",
    "sc.add_Mesh(\"./data/cbox/cbox_back.obj\", Matrix4fC([[1.,0.,0.,0.],[0.,1.,0.,0.],[0.,0.,1.,0.],[0.,0.,0.,1.]]), \"back\", None)\n",
    "sc.add_Mesh(\"./data/cbox/cbox_greenwall.obj\", Matrix4fC([[1.,0.,0.,0.],[0.,1.,0.,0.],[0.,0.,1.,0.],[0.,0.,0.,1.]]), \"green\", None)\n",
    "sc.add_Mesh(\"./data/cbox/cbox_redwall.obj\", Matrix4fC([[1.,0.,0.,0.],[0.,1.,0.,0.],[0.,0.,1.,0.],[0.,0.,0.,1.]]), \"red\", None)\n",
    "\n",
    "with drjit.suspend_grad():\n",
    "    sc.configure()\n",
    "    sc.configure([0])"
   ]
  },
  {
   "cell_type": "code",
   "execution_count": 6,
   "metadata": {},
   "outputs": [
    {
     "data": {
      "text/plain": [
       "<matplotlib.colorbar.Colorbar at 0x1b696a623d0>"
      ]
     },
     "execution_count": 6,
     "metadata": {},
     "output_type": "execute_result"
    },
    {
     "data": {
      "image/png": "[encoded data removed]",
      "text/plain": [
       "<Figure size 432x288 with 2 Axes>"
      ]
     },
     "metadata": {
      "needs_background": "light"
     },
     "output_type": "display_data"
    }
   ],
   "source": [
    "P = FloatD(0.) \n",
    "drjit.enable_grad(P) \n",
    "\n",
    "sc.param_map[\"Mesh[0]\"].set_transform(Matrix4fD([[1.,0.,0.,P*100],[0.,1.,0.,0.],[0.,0.,1.,0.],[0.,0.,0.,1.],]))\n",
    "sc.param_map[\"Mesh[1]\"].set_transform(Matrix4fD([[1.,0.,0.,P*100],[0.,1.,0.,0.],[0.,0.,1.,0.],[0.,0.,0.,1.],]))\n",
    "sc.configure([0])\n",
    "\n",
    "img = integrator.renderD(sc, 0)\n",
    "drjit.set_grad(P, 1.0)\n",
    "drjit.forward_to(img)\n",
    "diff_img = drjit.grad(img)\n",
    "diff_img = diff_img.numpy().reshape((sc.opts.width, sc.opts.height, 3)).mean(axis=2)\n",
    "plt.imshow(diff_img, interpolation='none', vmin=-.2, vmax=.2, cmap=plt.cm.viridis)\n",
    "plt.colorbar()"
   ]
  },
  {
   "cell_type": "code",
   "execution_count": 7,
   "metadata": {},
   "outputs": [
    {
     "data": {
      "text/plain": [
       "<matplotlib.colorbar.Colorbar at 0x1b6bb4b18e0>"
      ]
     },
     "execution_count": 7,
     "metadata": {},
     "output_type": "execute_result"
    },
    {
     "data": {
      "image/png": "[encoded data removed]",
      "text/plain": [
       "<Figure size 432x288 with 2 Axes>"
      ]
     },
     "metadata": {
      "needs_background": "light"
     },
     "output_type": "display_data"
    }
   ],
   "source": [
    "P = FloatD(0.) \n",
    "drjit.enable_grad(P) \n",
    "\n",
    "sc.param_map[\"Mesh[0]\"].set_transform(Matrix4fD([[1.,0.,0.,P*100],[0.,1.,0.,0.],[0.,0.,1.,0.],[0.,0.,0.,1.],]))\n",
    "sc.param_map[\"Mesh[1]\"].set_transform(Matrix4fD([[1.,0.,0.,P*100],[0.,1.,0.,0.],[0.,0.,1.,0.],[0.,0.,0.,1.],]))\n",
    "sc.configure([0])\n",
    "integrator.preprocess_secondary_edges(sc, 0, [2000,5,5,32], 1)\n",
    "\n",
    "img = integrator.renderD(sc, 0)\n",
    "drjit.set_grad(P, 1.0)\n",
    "drjit.forward_to(img)\n",
    "diff_img = drjit.grad(img)\n",
    "diff_img = diff_img.numpy().reshape((sc.opts.width, sc.opts.height, 3)).mean(axis=2)\n",
    "plt.imshow(diff_img, interpolation='none', vmin=-.2, vmax=.2, cmap=plt.cm.viridis)\n",
    "plt.colorbar()"
   ]
  },
  {
   "cell_type": "code",
   "execution_count": null,
   "metadata": {},
   "outputs": [],
   "source": []
  }
 ],
 "metadata": {
  "kernelspec": {
   "display_name": "Python 3",
   "language": "python",
   "name": "python3"
  },
  "language_info": {
   "codemirror_mode": {
    "name": "ipython",
    "version": 3
   },
   "file_extension": ".py",
   "mimetype": "text/x-python",
   "name": "python",
   "nbconvert_exporter": "python",
   "pygments_lexer": "ipython3",
   "version": "3.8.5"
  }
 },
 "nbformat": 4,
 "nbformat_minor": 5
}
